{
 "cells": [
  {
   "cell_type": "code",
   "execution_count": 1,
   "metadata": {},
   "outputs": [],
   "source": [
    "class mobile:\n",
    "    def __init__(self,name,ram,model,display,price):\n",
    "        self.name=name\n",
    "        self.ram=ram\n",
    "        self.model=model\n",
    "        self.display=display\n",
    "        self.price=price\n",
    "        print(\"constructor is excuited\")\n",
    "\n",
    "\n",
    "    def screen(self):\n",
    "      print(self.name,\"display=\",self.display)   \n"
   ]
  },
  {
   "cell_type": "code",
   "execution_count": 2,
   "metadata": {},
   "outputs": [
    {
     "name": "stdout",
     "output_type": "stream",
     "text": [
      "constructor is excuited\n",
      "vivek phone display= cuverd\n",
      "vivek phone \n",
      " 15abcd \n",
      " 25000 \n",
      " 6 - 128\n"
     ]
    }
   ],
   "source": [
    "realme=mobile(name=\"vivek phone\",ram=\"6 - 128\",model=\"15abcd\",display=\"cuverd\",price=25000)\n",
    "realme.screen()\n",
    "print(realme.name,\"\\n\",realme.model,\"\\n\",realme.price,\"\\n\",realme.ram)\n"
   ]
  }
 ],
 "metadata": {
  "kernelspec": {
   "display_name": "Python 3",
   "language": "python",
   "name": "python3"
  },
  "language_info": {
   "codemirror_mode": {
    "name": "ipython",
    "version": 3
   },
   "file_extension": ".py",
   "mimetype": "text/x-python",
   "name": "python",
   "nbconvert_exporter": "python",
   "pygments_lexer": "ipython3",
   "version": "3.12.4"
  }
 },
 "nbformat": 4,
 "nbformat_minor": 2
}
