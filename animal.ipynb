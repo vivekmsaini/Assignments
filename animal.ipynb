{
 "cells": [
  {
   "cell_type": "code",
   "execution_count": 9,
   "metadata": {},
   "outputs": [
    {
     "name": "stdout",
     "output_type": "stream",
     "text": [
      "constructor is exicuted \n",
      "micky sound= miyoou miyoou\n",
      "micky \n",
      " 4kg \n",
      " white\n"
     ]
    }
   ],
   "source": [
    "# class variable\n",
    "\n",
    "class animal:\n",
    "    #instance variable in constructer\n",
    "    def __init__(self,name,weight,sound,colour):\n",
    "        self.name=name\n",
    "        self.weight=weight\n",
    "        self.sound=sound\n",
    "        self.colour=colour\n",
    "        print(\"constructor is exicuted \")\n",
    "\n",
    "        # METHOD\n",
    "\n",
    "    def voice(self):\n",
    "        print(self.name,\"sound=\",self.sound)\n",
    "\n"
   ]
  },
  {
   "cell_type": "code",
   "execution_count": 12,
   "metadata": {},
   "outputs": [
    {
     "name": "stdout",
     "output_type": "stream",
     "text": [
      "constructor is exicuted \n",
      "micky sound= miyoou miyoou\n",
      "micky \n",
      " 4kg \n",
      " white\n"
     ]
    }
   ],
   "source": [
    "\n",
    "cat=animal(name='micky',sound='miyoou miyoou',weight='4kg',colour='white')\n",
    "cat.voice()\n",
    "print(cat.name,\"\\n\",cat.weight,\"\\n\",cat.colour)\n"
   ]
  },
  {
   "cell_type": "code",
   "execution_count": 10,
   "metadata": {},
   "outputs": [
    {
     "name": "stdout",
     "output_type": "stream",
     "text": [
      "constructor is exicuted \n",
      "sheru sound= hello hello\n",
      "sheru \n",
      " 12kg \n",
      " black\n"
     ]
    }
   ],
   "source": [
    "dog=animal(name='sheru',sound='hello hello',weight='12kg',colour='black')\n",
    "dog.voice()\n",
    "print(dog.name,\"\\n\",dog.weight,\"\\n\",dog.colour)"
   ]
  },
  {
   "cell_type": "code",
   "execution_count": 11,
   "metadata": {},
   "outputs": [
    {
     "name": "stdout",
     "output_type": "stream",
     "text": [
      "constructor is exicuted \n",
      "rani sound= puck puck\n",
      "rani \n",
      " 2kg \n",
      " white\n"
     ]
    }
   ],
   "source": [
    "duck=animal(name='rani',sound='puck puck',weight='2kg',colour='white')\n",
    "duck.voice()\n",
    "print(duck.name,\"\\n\",duck.weight,\"\\n\",duck.colour)"
   ]
  }
 ],
 "metadata": {
  "kernelspec": {
   "display_name": "Python 3",
   "language": "python",
   "name": "python3"
  },
  "language_info": {
   "codemirror_mode": {
    "name": "ipython",
    "version": 3
   },
   "file_extension": ".py",
   "mimetype": "text/x-python",
   "name": "python",
   "nbconvert_exporter": "python",
   "pygments_lexer": "ipython3",
   "version": "3.12.4"
  }
 },
 "nbformat": 4,
 "nbformat_minor": 2
}
